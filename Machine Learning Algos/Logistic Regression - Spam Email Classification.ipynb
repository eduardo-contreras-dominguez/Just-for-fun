{
 "cells": [
  {
   "cell_type": "code",
   "execution_count": 21,
   "id": "1da05af4-f007-4d53-b887-b2e9e552b8ac",
   "metadata": {
    "tags": []
   },
   "outputs": [],
   "source": [
    "import pandas as pd\n",
    "from sklearn.model_selection import train_test_split\n",
    "from sklearn.linear_model import LogisticRegression\n",
    "from sklearn.feature_extraction.text import CountVectorizer\n",
    "from sklearn.metrics import classification_report"
   ]
  },
  {
   "cell_type": "code",
   "execution_count": 22,
   "id": "11c50bfc-d9f0-4bdf-9d0a-9533d676ccde",
   "metadata": {},
   "outputs": [
    {
     "name": "stdout",
     "output_type": "stream",
     "text": [
      "              precision    recall  f1-score   support\n",
      "\n",
      "           0       0.98      1.00      0.99       967\n",
      "           1       1.00      0.88      0.94       148\n",
      "\n",
      "    accuracy                           0.98      1115\n",
      "   macro avg       0.99      0.94      0.96      1115\n",
      "weighted avg       0.98      0.98      0.98      1115\n",
      "\n"
     ]
    }
   ],
   "source": [
    "df = pd.read_csv(\"spam.csv\")\n",
    "df[\"Category\"] = df[\"Category\"].replace({\"spam\": 1, \"ham\":0})\n",
    "#Now we will transform the message of each email into a vector.\n",
    "#This is done using sklearn.feature_extraction. \n",
    "\n",
    "x_train_sentence, x_test_sentence, y_train_sentence, y_test_sentence = train_test_split(df[\"Message\"],\n",
    "                                                                                        df[\"Category\"],\n",
    "                                                                                        train_size = 0.8,\n",
    "                                                                                       random_state = 200)\n",
    "\n",
    "\n",
    "vectorizer= CountVectorizer()\n",
    "vectorizer.fit(x_train_sentence)\n",
    "X_train = vectorizer.transform(x_train_sentence)\n",
    "X_test = vectorizer.transform(x_test_sentence)\n",
    "\n",
    "logR = LogisticRegression()\n",
    "logR.fit(X_train, y_train_sentence)\n",
    "predictions = logR.predict(X_test)\n",
    "\n",
    "#Evaluate our model\n",
    "print(classification_report(y_test_sentence, predictions))\n"
   ]
  },
  {
   "cell_type": "code",
   "execution_count": null,
   "id": "381cd199-ff1b-48e3-9f76-37622ccb4d26",
   "metadata": {},
   "outputs": [],
   "source": []
  }
 ],
 "metadata": {
  "kernelspec": {
   "display_name": "Python 3 (ipykernel)",
   "language": "python",
   "name": "python3"
  },
  "language_info": {
   "codemirror_mode": {
    "name": "ipython",
    "version": 3
   },
   "file_extension": ".py",
   "mimetype": "text/x-python",
   "name": "python",
   "nbconvert_exporter": "python",
   "pygments_lexer": "ipython3",
   "version": "3.10.5"
  }
 },
 "nbformat": 4,
 "nbformat_minor": 5
}
