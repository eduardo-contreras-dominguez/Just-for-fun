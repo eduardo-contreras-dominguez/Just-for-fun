{
 "cells": [
  {
   "cell_type": "code",
   "execution_count": 1,
   "id": "06cd2cb2-9724-467c-b5de-bab29e58fe3e",
   "metadata": {
    "tags": []
   },
   "outputs": [],
   "source": [
    "import pandas as pd\n",
    "import numpy as np\n",
    "\n",
    "#All methods we need to use to implement our model. \n",
    "from sklearn.model_selection import train_test_split\n",
    "from sklearn.preprocessing import StandardScaler\n",
    "from sklearn.neighbors import KNeighborsClassifier\n",
    "from sklearn.metrics import confusion_matrix, f1_score, accuracy_score\n"
   ]
  },
  {
   "cell_type": "code",
   "execution_count": 7,
   "id": "73d6d6c8-adcb-4e15-909f-30fd62561ac2",
   "metadata": {
    "tags": []
   },
   "outputs": [
    {
     "name": "stdout",
     "output_type": "stream",
     "text": [
      "[[95 12]\n",
      " [18 29]]\n",
      "0.6590909090909092\n"
     ]
    }
   ],
   "source": [
    "#Step 1: Import our data\n",
    "df = pd.read_csv(\"diabetes.csv\")\n",
    "\n",
    "#Step 2: We will create a list of columns which cannot have zeros\n",
    "\n",
    "zeros_not_accepted = [\"Glucose\",\"BloodPressure\",\"SkinThickness\",\"BMI\",\"Insulin\"]\n",
    "for column in zeros_not_accepted:\n",
    "    df[column] = df[column].replace(0, np.NaN)\n",
    "    mean = int(df[column].mean(skipna = True))\n",
    "    df[column] = df[column].replace(np.NaN, mean)\n",
    "\n",
    "#Step 3: Split dataset\n",
    "X = df.iloc[:, :-1]\n",
    "y = df.iloc[:,-1]\n",
    "X_train, X_test, y_train, y_test = train_test_split(X, y, random_state = 0, test_size = 0.2)\n",
    "\n",
    "#Step 4: Feature scaling the labeled data\n",
    "\n",
    "sc_X = StandardScaler()\n",
    "X_train = sc_X.fit_transform(X_train)\n",
    "X_test = sc_X.fit_transform(X_test)\n",
    "\n",
    "#Step 5: Define the model and train the model\n",
    "\n",
    "classifier = KNeighborsClassifier(n_neighbors = 11, p=2, metric = \"euclidean\")\n",
    "classifier.fit(X_train, y_train)\n",
    "\n",
    "#Step 6: Evaluate the model (confusion, accuracy, f1-Score)\n",
    "\n",
    "y_pred = classifier.predict(X_test)\n",
    "cm = confusion_matrix(y_test, y_pred)\n",
    "print(cm)\n",
    "\n",
    "#F1-Score: more telling than the accurracy\n",
    "print(f1_score(y_test, y_pred))"
   ]
  },
  {
   "cell_type": "code",
   "execution_count": null,
   "id": "d3e00d26-8b9b-4931-ad3d-c40fafe75bec",
   "metadata": {},
   "outputs": [],
   "source": []
  }
 ],
 "metadata": {
  "kernelspec": {
   "display_name": "Python 3 (ipykernel)",
   "language": "python",
   "name": "python3"
  },
  "language_info": {
   "codemirror_mode": {
    "name": "ipython",
    "version": 3
   },
   "file_extension": ".py",
   "mimetype": "text/x-python",
   "name": "python",
   "nbconvert_exporter": "python",
   "pygments_lexer": "ipython3",
   "version": "3.10.5"
  }
 },
 "nbformat": 4,
 "nbformat_minor": 5
}
