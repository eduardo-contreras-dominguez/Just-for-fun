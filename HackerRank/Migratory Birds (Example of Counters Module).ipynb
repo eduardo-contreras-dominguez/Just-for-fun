{
 "cells": [
  {
   "cell_type": "markdown",
   "id": "94bc7ffa",
   "metadata": {},
   "source": [
    "### Problem\n",
    "\n",
    "Given an array of bird sightings where every element represents a bird type id, determine the id of the most frequently sighted type. If more than 1 type has been spotted that maximum amount, return the smallest of their ids.\n",
    "\n",
    "### Solution\n",
    "\n",
    " - Use __Counters__ built-in module. This will count the number of appearences of each kind of birds.\n",
    " - Retrieve the number of max appearences using __most_common()__ method. \n",
    " - Extract birds ids appearing this number of times\n",
    " - Print the minimum id. "
   ]
  },
  {
   "cell_type": "code",
   "execution_count": 3,
   "id": "28872632",
   "metadata": {},
   "outputs": [
    {
     "name": "stdout",
     "output_type": "stream",
     "text": [
      "4\n",
      "3\n"
     ]
    }
   ],
   "source": [
    "import math\n",
    "import os\n",
    "import random\n",
    "import re\n",
    "import sys\n",
    "\n",
    "#Important one\n",
    "from collections import Counter\n",
    "\n",
    "\n",
    "def migratoryBirds(arr):\n",
    "    counts = Counter(arr)\n",
    "    most_common = counts.most_common()\n",
    "    biggest_appearence = most_common[0][1]\n",
    "    elements = [element for element, count in most_common if count == biggest_appearence]\n",
    "    return min(elements)\n",
    "\n",
    "print(migratoryBirds([1, 4, 4, 4, 5, 3]))\n",
    "\n",
    "#Now birds 3 and 4 appear the same number of times. \n",
    "print(migratoryBirds([1, 4, 4, 4, 5, 3, 3, 3]))"
   ]
  },
  {
   "cell_type": "code",
   "execution_count": null,
   "id": "aae0cbc0",
   "metadata": {},
   "outputs": [],
   "source": []
  }
 ],
 "metadata": {
  "kernelspec": {
   "display_name": "Python 3 (ipykernel)",
   "language": "python",
   "name": "python3"
  },
  "language_info": {
   "codemirror_mode": {
    "name": "ipython",
    "version": 3
   },
   "file_extension": ".py",
   "mimetype": "text/x-python",
   "name": "python",
   "nbconvert_exporter": "python",
   "pygments_lexer": "ipython3",
   "version": "3.10.5"
  }
 },
 "nbformat": 4,
 "nbformat_minor": 5
}
