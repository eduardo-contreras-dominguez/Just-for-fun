{
 "cells": [
  {
   "cell_type": "markdown",
   "id": "5cda623c-0caa-4874-a7b0-2f40b73145f8",
   "metadata": {},
   "source": [
    "We define a magic square to be an $n \\times n$ matrix of distinct positive integers from $1$ to $n^2$ where the sum of any row, column, or diagonal of length  is always equal to the same number: the magic constant.\n",
    "\n",
    "You will be given a $3 \\times 3$ matrix  of integers in the inclusive range from $1$ to $9$. We can convert any digit $a$ to any other digit $b$ in the range  at cost of $abs(a - b)$ . Given an array $s$, convert it into a magic square at minimal cost. Print this cost on a new line.\n",
    "\n",
    "Note: The resulting magic square must contain distinct integers in the inclusive range going from $1$ to $9$.\n",
    "\n",
    "### Solution\n",
    "\n",
    "Here the solution is based on the fact that __it only exists 8 possible magic squares in $3 /times 3$ case__. So basically this code will compute \"how far\" our matrix is from any of these 8 matrixes and will outp"
   ]
  },
  {
   "cell_type": "code",
   "execution_count": 3,
   "id": "3e16e80e",
   "metadata": {
    "tags": []
   },
   "outputs": [],
   "source": [
    "def formingMagicSquareSolution(s):\n",
    "    ls_possible_square = [\n",
    "        [[2,9,4],[7,5,3],[6,1,8]],\n",
    "        [[2,7,6],[9,5,1],[4,3,8]],\n",
    "        [[6,7,2],[1,5,9],[8,3,4]],\n",
    "        [[6,1,8],[7,5,3],[2,9,4]],\n",
    "        [[8,1,6],[3,5,7],[4,9,2]],\n",
    "        [[8,3,4],[1,5,9],[6,7,2]],\n",
    "        [[4,3,8],[9,5,1],[2,7,6]],\n",
    "        [[4,9,2],[3,5,7],[8,1,6]],\n",
    "    ] # 8 magic squares in case 3x3\n",
    "    cost = 0\n",
    "    min_cost = 72\n",
    "    for x in ls_possible_square: # x has length 8 \n",
    "        for i in range(3):\n",
    "            for j in range(3):\n",
    "                cost += abs(x[i][j] - s[i][j])\n",
    "        if cost < min_cost:\n",
    "            min_cost = cost        \n",
    "        cost = 0\n",
    "    return min_cost"
   ]
  },
  {
   "cell_type": "code",
   "execution_count": 4,
   "id": "07a3ff2a-17d7-4971-bc0e-dba5e80d0509",
   "metadata": {
    "tags": []
   },
   "outputs": [
    {
     "name": "stdin",
     "output_type": "stream",
     "text": [
      " 1 2 3\n",
      " 4 5 6\n",
      " 7 8 9\n"
     ]
    },
    {
     "name": "stdout",
     "output_type": "stream",
     "text": [
      "24\n"
     ]
    }
   ],
   "source": [
    "    s = []\n",
    "\n",
    "    for _ in range(3):\n",
    "        s.append(list(map(int, input().rstrip().split())))\n",
    "        \n",
    "    result = formingMagicSquareSolution(s)\n",
    "    print(result)"
   ]
  },
  {
   "cell_type": "code",
   "execution_count": null,
   "id": "380a663f-1af6-4a31-acd7-bb57082d488f",
   "metadata": {},
   "outputs": [],
   "source": []
  }
 ],
 "metadata": {
  "kernelspec": {
   "display_name": "Python 3 (ipykernel)",
   "language": "python",
   "name": "python3"
  },
  "language_info": {
   "codemirror_mode": {
    "name": "ipython",
    "version": 3
   },
   "file_extension": ".py",
   "mimetype": "text/x-python",
   "name": "python",
   "nbconvert_exporter": "python",
   "pygments_lexer": "ipython3",
   "version": "3.10.5"
  }
 },
 "nbformat": 4,
 "nbformat_minor": 5
}
