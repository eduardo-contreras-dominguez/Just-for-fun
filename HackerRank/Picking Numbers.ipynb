{
 "cells": [
  {
   "cell_type": "markdown",
   "id": "a5086f60-a835-4a01-8249-3f16a4811360",
   "metadata": {},
   "source": [
    "### Problem\n",
    "\n",
    "Given an array of integers, find the longest subarray where the absolute difference between any two elements is less than or equal to $1$ .\n",
    "\n",
    "### Example\n",
    "\n",
    "$$a = [1,1,2,2,4,4,5,5,5]$$\n",
    "There are two subarrays meeting the criterion: $[1,1,2,2]$ and $[4,4,5,5,5]$. The maximum length subarray has $5$ elements.\n",
    "\n",
    "### Function Description\n",
    "\n",
    "Complete the pickingNumbers function in the editor below.\n",
    "\n",
    "pickingNumbers has the following parameter(s):\n",
    "\n",
    "- int a[n]: an array of integers\n",
    "\n",
    "### Returns\n",
    "\n",
    "int: the length of the longest subarray that meets the criterion"
   ]
  },
  {
   "cell_type": "code",
   "execution_count": 3,
   "id": "b30395f5-1267-4a49-b460-6608288a31c4",
   "metadata": {
    "tags": []
   },
   "outputs": [],
   "source": [
    "def pickingNumbers(a):\n",
    "    # Counter of maximum length of subarray\n",
    "    max_len = 0\n",
    "    # We take all different elements in original array. Sorted to check if difference > 1.\n",
    "    L = list(sorted(list(set(a))))\n",
    "    # Check length of subarray with individual elements (difference equal to 0).\n",
    "    for i in range(len(L)):\n",
    "        isolated_arr = [element  for element in a if element == L[i]]\n",
    "        if len(isolated_arr)>max_len:\n",
    "            max_len = len(isolated_arr)\n",
    "    # Check elements with consecutive difference.\n",
    "    for i in range(1, len(L)):\n",
    "        min_element = L[i - 1]\n",
    "        max_element = L[i]\n",
    "        if (max_element - min_element)<= 1:\n",
    "            print((min_element, max_element))\n",
    "            consecutive_array = [element  for element in a if element == min_element or element == max_element]\n",
    "            if len(consecutive_array) > max_len:\n",
    "                print(consecutive_array)\n",
    "                max_len = len(consecutive_array)\n",
    "    return max_len"
   ]
  },
  {
   "cell_type": "code",
   "execution_count": 4,
   "id": "059c1c99-f85c-44d2-85a8-b708cf2017a4",
   "metadata": {
    "tags": []
   },
   "outputs": [
    {
     "name": "stdout",
     "output_type": "stream",
     "text": [
      "50\n",
      "(4, 5)\n",
      "50\n"
     ]
    }
   ],
   "source": [
    "s = \"4 97 5 97 97 4 97 4 97 97 97 97 4 4 5 5 97 5 97 99 4 97 5 97 97 97 5 5 97 4 5 97 97 5 97 4 97 5 4 4 97 5 5 5 4 97 97 4 97 5 4 4 97 97 97 5 5 97 4 97 97 5 4 97 97 4 97 97 97 5 4 4 97 4 4 97 5 97 97 97 97 4 97 5 97 5 4 97 4 5 97 97 5 97 5 97 5 97 97 97\"\n",
    "L = [int(element) for element in s.split(\" \")]\n",
    "consecutive_array = [element  for element in L if element == 97]\n",
    "print(len(consecutive_array))\n",
    "print(pickingNumbers(L))"
   ]
  },
  {
   "cell_type": "code",
   "execution_count": null,
   "id": "75259f36-580a-4ad9-96fa-d39a7fb7bb69",
   "metadata": {},
   "outputs": [],
   "source": [
    "#Hay que hacer este codigo mas rapido. \n",
    "\n",
    "def mostBalancedPartition(parent, files_size):\n",
    "    subtrees = []\n",
    "    storages = []\n",
    "    total_storage = sum(files_size)\n",
    "    for i in range(1,len(parent)):\n",
    "        subtree = []\n",
    "        parent_node = parent[i]\n",
    "        #print(\"Parent node: \", parent_node)\n",
    "        subtree.append([parent_node])\n",
    "        child_nodes = [i for i in range(len(parent))if parent[i] == parent_node]\n",
    "        subtree.append(child_nodes)\n",
    "        while child_nodes:\n",
    "            parent_nodes = child_nodes\n",
    "            child_nodes = [i for i in range(len(parent)) if parent[i] in parent_nodes]\n",
    "            subtree.append(child_nodes)\n",
    "        subtree = [item for sublist in subtree for item in sublist]\n",
    "        subtrees.append(subtree)\n",
    "        storages.append((sum([files_size[i] for i in subtree]), total_storage - sum([files_size[i] for i in subtree])))\n",
    "    for element in files_size:\n",
    "        storages.append((element, total_storage - element))\n",
    "    #storages = [files_size[i]  for element in subtrees for i in element]\n",
    "    storages = [abs(element[0] - element[1]) for element in storages]\n",
    "    return min(storages)\n",
    "#No estamos considerando los elementos con nodos aislados"
   ]
  }
 ],
 "metadata": {
  "kernelspec": {
   "display_name": "Python 3 (ipykernel)",
   "language": "python",
   "name": "python3"
  },
  "language_info": {
   "codemirror_mode": {
    "name": "ipython",
    "version": 3
   },
   "file_extension": ".py",
   "mimetype": "text/x-python",
   "name": "python",
   "nbconvert_exporter": "python",
   "pygments_lexer": "ipython3",
   "version": "3.10.5"
  }
 },
 "nbformat": 4,
 "nbformat_minor": 5
}
