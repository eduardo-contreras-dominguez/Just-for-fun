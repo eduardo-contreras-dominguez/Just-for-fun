{
 "cells": [
  {
   "cell_type": "markdown",
   "id": "ca4611e0",
   "metadata": {},
   "source": [
    "#### Problem\n",
    "\n",
    "Given a set of distinct integers, print the size of a maximal subset of $S$ where the sum of any $2$ numbers in $S'$ is not evenly divisible by $k$.\n",
    "\n",
    "#### Example\n",
    " \n",
    "$S = \\left[ 19, 10, 12, 10, 24, 25, 22\\right] \\quad k = 4$\n",
    "\n",
    "One of the arrays that can be created is $\\left[10, 12, 25 \\right]$. Another is $\\left[19, 22, 24 \\right]$. After testing all permutations, the maximum length solution array has $3$  elements.\n",
    "\n",
    "#### Function Description\n",
    "\n",
    "Complete a nonDivisibleSubset function in the editor below.\n",
    "\n",
    "nonDivisibleSubset has the following parameter(s):\n",
    "\n",
    "- int S[n]: an array of integers\n",
    "- int k: the divisor\n",
    "\n",
    "#### Solution\n",
    "\n",
    "*__En estos problemas siempre buscar una forma sencilla de hacer las cosas!!!!__*. \n",
    "\n",
    "*En primer lugar nosotros vamos a utilizar un metodo de Python que acabo de conocer que es __Counter()__, este cuenta el numero de elementos en una lista, diccionario, etc.*\n",
    "\n",
    "*Lo que vamos a hacer es transformar todos los elementos del conjunto $S$ en su equivalente $mod(k)$, por ejemplo si $k$ es $4$ entonces el $5$ se transformara en $1$.*\n",
    "\n",
    "*Hay varios casos especiales:*\n",
    "- Si en $S$ hay algun elemento $e$ tal que $e\\equiv 0 \\;(k)$ solamente podra haber uno de estos en nuestro nuevo conjunto (ya que si sumamos dos elementos cuyo resto por $k$ es cero este nuevo elemento formado es divisible por $k$).\n",
    "- Por otro lado si existe algun elemento $e$ en $S$ tal que $k = 2i \\text{ con } e \\equiv i (k)$ solamente podra haber uno de estos en el nuevo conjunto formado (ya que otra vez, si sumamos dos de estos elementos volvemos a formar un elemento divisible por $k$). \n",
    "\n",
    "- Ahora ya con el resto de elementos actuamos de la misma forma: Entre las combinaciones de $i$ y $k - i$ posibles (que son los elementos que sumados dos a dos pueden darnos un resultado divisible por $k$) escogemos los numeros del grupo que mas haya (si $k = 4$ y hay $15$ elementos cuyo resto es $3$ modulo $4$ y hay $2$ cuyo resto es $1$ modulo $4$ anadimos los $15$ elementos con resto $3$.)\n",
    "\n",
    "Este es un claro ejemplo de un problema en el que hay que ser sumamente observador y dividir todos los posibles numeros en diferentes caso, __hay que contemplar ampliamente la casuistica del problema__."
   ]
  },
  {
   "cell_type": "code",
   "execution_count": 8,
   "id": "7bfe255e",
   "metadata": {},
   "outputs": [],
   "source": [
    "def nonDivisibleSubset(k, s):\n",
    "    for i in range(len(s)):\n",
    "        s[i]=s[i]%k\n",
    "    \n",
    "    if k==1 :\n",
    "        return 1\n",
    "    dic= Counter(s)\n",
    "    ans=0\n",
    "    for i in range(k+2//2):\n",
    "        if i in dic:\n",
    "            if i==k-i:\n",
    "                ans+=1\n",
    "            elif i==0:\n",
    "                ans+=1\n",
    "            elif k-i in dic:\n",
    "                if dic[i]<dic[k-i]:\n",
    "                    ans+=dic[k-i]\n",
    "            else:\n",
    "                ans+=dic[i]\n",
    "    return ans"
   ]
  },
  {
   "cell_type": "code",
   "execution_count": 9,
   "id": "a5bd30a3",
   "metadata": {},
   "outputs": [
    {
     "data": {
      "text/plain": [
       "2"
      ]
     },
     "execution_count": 9,
     "metadata": {},
     "output_type": "execute_result"
    }
   ],
   "source": [
    "nonDivisibleSubset(4, [19, 10, 12, 24, 25, 22])"
   ]
  },
  {
   "cell_type": "code",
   "execution_count": null,
   "id": "fbf08350",
   "metadata": {},
   "outputs": [],
   "source": []
  },
  {
   "cell_type": "code",
   "execution_count": null,
   "id": "c6c33534",
   "metadata": {},
   "outputs": [],
   "source": []
  }
 ],
 "metadata": {
  "kernelspec": {
   "display_name": "Python 3 (ipykernel)",
   "language": "python",
   "name": "python3"
  },
  "language_info": {
   "codemirror_mode": {
    "name": "ipython",
    "version": 3
   },
   "file_extension": ".py",
   "mimetype": "text/x-python",
   "name": "python",
   "nbconvert_exporter": "python",
   "pygments_lexer": "ipython3",
   "version": "3.10.5"
  }
 },
 "nbformat": 4,
 "nbformat_minor": 5
}
