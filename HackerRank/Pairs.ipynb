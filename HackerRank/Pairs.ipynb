{
 "cells": [
  {
   "cell_type": "markdown",
   "id": "65d774f7",
   "metadata": {},
   "source": [
    "## Problem\n",
    "\n",
    "Given an array of integers and a target value, determine the number of pairs of array elements that have a difference equal to the target value.\n",
    "\n",
    "## Ideas\n",
    "<br> Ordenar la lista\n",
    "<br> Quitar los elementos tal que la diferencia con el colindante sea mayor al numero buscado\n",
    "\n",
    "## Solucion\n",
    "Como siempre, lo complicado de estos problemas es la eficacia a nivel temporal. Aqui podemos apreciar\n",
    "la diferencia entre la funcion <b><i>pairs()</i></b> y <b><i>pairs_shorter()</i></b>. \n",
    " \n",
    "La primera funcion ya no se basa en fuerza bruta. Avanzamos por la lista y verificamos el valor absoluto de la diferencia con los elementos que le siguen, asi ya nos ahorramos unas cuantas restas. \n",
    "\n",
    "La segunda funcion ordena la lista. Empieza por el valor mas pequeno y efectua todas las restas hasta que ya se supera el valor dado. La clave de este enfoque es que restando asi, de una forma mas ordenada se sabe con certeza que <b>para un elemento dado las restas consideradas iran creciendo mas y mas, por lo que una vez sobrepasado el umbral de <k>k</k> puedes pasar al elemento siguiente</b>"
   ]
  },
  {
   "cell_type": "code",
   "execution_count": null,
   "id": "aa8c0d9e",
   "metadata": {},
   "outputs": [],
   "source": [
    "from time import time"
   ]
  },
  {
   "cell_type": "code",
   "execution_count": 8,
   "id": "9d79d43f",
   "metadata": {},
   "outputs": [],
   "source": [
    "def pairs(k, arr):\n",
    "    counter = 0\n",
    "    sum_number = 0\n",
    "    for i in range(len(arr)):\n",
    "        for j in range(i+1, len(arr)):\n",
    "            sum_number += 1\n",
    "            if abs(arr[i] - arr[j]) == k:\n",
    "                counter+=1\n",
    "    print(\"Sum number in this algorithm: \", sum_number)\n",
    "    return counter"
   ]
  },
  {
   "cell_type": "markdown",
   "id": "d502d5b6",
   "metadata": {},
   "source": [
    "Vamos a <b> ordenar ahora la lista</b>, una vez que la resta ya sea superior al numero deseado entramos en un break. Esto quizas nos ahorra tiempo"
   ]
  },
  {
   "cell_type": "code",
   "execution_count": 15,
   "id": "bdefbd00",
   "metadata": {},
   "outputs": [],
   "source": [
    "def pairs_shorter(k, arr):\n",
    "    counter = 0\n",
    "    sum_number = 0\n",
    "    arr.sort()\n",
    "    for i in range(len(arr)):\n",
    "        for j in range(i+1, len(arr)):\n",
    "            diff_ = arr[j] - arr[i]\n",
    "            sum_number += 1\n",
    "            if (diff_) == k:\n",
    "                counter+=1\n",
    "            elif (diff_) > k:\n",
    "                break\n",
    "    print(\"Sum number in this algorithm: \", sum_number)\n",
    "    return counter"
   ]
  },
  {
   "cell_type": "code",
   "execution_count": 18,
   "id": "ea80b9bb",
   "metadata": {},
   "outputs": [
    {
     "name": "stdout",
     "output_type": "stream",
     "text": [
      "Sum number in this algorithm:  9\n",
      "Sum number in this algorithm:  10\n"
     ]
    },
    {
     "data": {
      "text/plain": [
       "3"
      ]
     },
     "execution_count": 18,
     "metadata": {},
     "output_type": "execute_result"
    }
   ],
   "source": [
    "pairs_shorter(2, [1, 5, 3, 4, 2])\n",
    "pairs(2, [1, 5, 3, 4, 2])"
   ]
  },
  {
   "cell_type": "code",
   "execution_count": null,
   "id": "6c9dfcb9",
   "metadata": {},
   "outputs": [],
   "source": []
  }
 ],
 "metadata": {
  "kernelspec": {
   "display_name": "Python 3 (ipykernel)",
   "language": "python",
   "name": "python3"
  },
  "language_info": {
   "codemirror_mode": {
    "name": "ipython",
    "version": 3
   },
   "file_extension": ".py",
   "mimetype": "text/x-python",
   "name": "python",
   "nbconvert_exporter": "python",
   "pygments_lexer": "ipython3",
   "version": "3.10.5"
  }
 },
 "nbformat": 4,
 "nbformat_minor": 5
}
