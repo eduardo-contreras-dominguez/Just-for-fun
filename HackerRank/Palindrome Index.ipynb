{
 "cells": [
  {
   "cell_type": "markdown",
   "id": "b09f34ba",
   "metadata": {},
   "source": [
    "### Problem\n",
    "\n",
    "<u>Input:</u> Given a string of lowercase letters in the range ascii[a-z]\n",
    "\n",
    "<u>Solution:</u> Index of a character that can be removed to make the string a palindrome. There may be more than one solution, but any will do. If the word is already a palindrome or there is no solution, return -1. Otherwise, return the index of a character to remove.\n",
    "\n",
    "\n",
    "### Solution\n",
    "\n",
    "_He ido elemento a elemento de la string en un bucle, quitando ese elemento de la string original y posteriormente viendo si es un palindromo._\n",
    "_Poco original y parece que ha HackerRank no le convence esta solucion por optimizacion de tiempo._"
   ]
  },
  {
   "cell_type": "code",
   "execution_count": 4,
   "id": "ef086bb5",
   "metadata": {},
   "outputs": [],
   "source": [
    "def palindromeIndex(s):\n",
    "    #Checking if input is already palindrome\n",
    "    if not s == s[::-1]:\n",
    "        for element in range(len(s)): \n",
    "            #Delete character\n",
    "            considered = s[:element] +s[element + 1 : ]\n",
    "            #Check if palindrome\n",
    "            if considered == considered[::-1]:\n",
    "                return element\n",
    "    return -1"
   ]
  },
  {
   "cell_type": "code",
   "execution_count": 5,
   "id": "a6d36177",
   "metadata": {},
   "outputs": [
    {
     "name": "stdout",
     "output_type": "stream",
     "text": [
      "3\n",
      "-1\n"
     ]
    }
   ],
   "source": [
    "print(palindromeIndex(\"aaab\"))\n",
    "print(palindromeIndex(\"aaaaaaa\"))"
   ]
  },
  {
   "cell_type": "markdown",
   "id": "55316091",
   "metadata": {},
   "source": [
    "The problem here was to __consider the whole string in order to check if it was a palyndrome. This is not very time efficient,__\n",
    "\n",
    "Thus, we __cut the string to check in two substrings: left and right (reversed)__. We only have to reverse the right substring in order to compare to the left half. "
   ]
  },
  {
   "cell_type": "code",
   "execution_count": null,
   "id": "9c835fb4",
   "metadata": {},
   "outputs": [],
   "source": [
    "def palindromeIndex(s):\n",
    "    left= s[:len(s)//2 + len(s)%2]\n",
    "    right_rev= s[len(s)//2:][::-1]\n",
    "    if not left == right_rev:\n",
    "        len_considered = (len(s)-1)\n",
    "        for element in range(len(s)): \n",
    "            considered = s[:element] +s[element + 1 : ]\n",
    "            left = considered[:len_considered//2 + len_considered%2]\n",
    "            right_rev = considered[len_considered//2:][::-1]\n",
    "            if left == right_rev:\n",
    "                return element\n",
    "    return -1"
   ]
  }
 ],
 "metadata": {
  "kernelspec": {
   "display_name": "Python 3 (ipykernel)",
   "language": "python",
   "name": "python3"
  },
  "language_info": {
   "codemirror_mode": {
    "name": "ipython",
    "version": 3
   },
   "file_extension": ".py",
   "mimetype": "text/x-python",
   "name": "python",
   "nbconvert_exporter": "python",
   "pygments_lexer": "ipython3",
   "version": "3.10.5"
  }
 },
 "nbformat": 4,
 "nbformat_minor": 5
}
