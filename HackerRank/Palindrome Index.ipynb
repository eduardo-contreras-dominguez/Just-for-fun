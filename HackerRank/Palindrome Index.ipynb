{
 "cells": [
  {
   "cell_type": "markdown",
   "id": "a100e6c6",
   "metadata": {},
   "source": [
    "### Problem\n",
    "\n",
    "<u>Input:</u> Given a string of lowercase letters in the range ascii[a-z]\n",
    "\n",
    "<u>Solution:</u> Index of a character that can be removed to make the string a palindrome. There may be more than one solution, but any will do. If the word is already a palindrome or there is no solution, return -1. Otherwise, return the index of a character to remove.\n",
    "\n",
    "\n",
    "### Solution\n",
    "\n",
    "_He ido elemento a elemento de la string en un bucle, quitando ese elemento de la string original y posteriormente viendo si es un palindromo._\n",
    "_Poco original y parece que ha HackerRank no le convence esta solucion por optimizacion de tiempo._"
   ]
  },
  {
   "cell_type": "code",
   "execution_count": 1,
   "id": "cfd93940",
   "metadata": {},
   "outputs": [],
   "source": [
    "def palindromeIndex(s):\n",
    "    if not s == s[::-1]:\n",
    "        for element in range(len(s)): \n",
    "            considered = s[:element] +s[element + 1 : ]\n",
    "            if considered == considered[::-1]:\n",
    "                return element\n",
    "    return -1"
   ]
  },
  {
   "cell_type": "code",
   "execution_count": 2,
   "id": "06b57477",
   "metadata": {},
   "outputs": [
    {
     "data": {
      "text/plain": [
       "3"
      ]
     },
     "execution_count": 2,
     "metadata": {},
     "output_type": "execute_result"
    }
   ],
   "source": [
    "print(palindromeIndex(\"aaab\"))\n",
    "print(palindromeIndex())"
   ]
  },
  {
   "cell_type": "code",
   "execution_count": null,
   "id": "276d9668",
   "metadata": {},
   "outputs": [],
   "source": []
  }
 ],
 "metadata": {
  "kernelspec": {
   "display_name": "Python 3 (ipykernel)",
   "language": "python",
   "name": "python3"
  },
  "language_info": {
   "codemirror_mode": {
    "name": "ipython",
    "version": 3
   },
   "file_extension": ".py",
   "mimetype": "text/x-python",
   "name": "python",
   "nbconvert_exporter": "python",
   "pygments_lexer": "ipython3",
   "version": "3.10.5"
  }
 },
 "nbformat": 4,
 "nbformat_minor": 5
}
