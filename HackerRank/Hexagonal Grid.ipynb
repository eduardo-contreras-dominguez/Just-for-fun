{
 "cells": [
  {
   "cell_type": "code",
   "execution_count": 1,
   "id": "07615f96",
   "metadata": {},
   "outputs": [],
   "source": [
    "import os\n"
   ]
  },
  {
   "cell_type": "code",
   "execution_count": null,
   "id": "ad388338",
   "metadata": {},
   "outputs": [],
   "source": [
    "def hexagonalGridSolution(a, b):\n",
    "    if ((a.count('1') + b.count('1')) % 2 != 0):\n",
    "        return 'NO'\n",
    "    white = 0\n",
    "    block = False\n",
    "    for i in range(len(a)):\n",
    "        if (a[i] == '1'):\n",
    "            if block and white % 2 != 0:\n",
    "                return 'NO'\n",
    "            block = True\n",
    "        elif (a[i] == '0'):\n",
    "            block = False\n",
    "            white += 1\n",
    "        if (b[i] == '1'):\n",
    "            if block and white % 2 != 0:\n",
    "                return 'NO'\n",
    "            block = True\n",
    "        elif (b[i] == '0'):\n",
    "            block = False\n",
    "            white += 1          \n",
    "    return 'YES'"
   ]
  },
  {
   "cell_type": "code",
   "execution_count": 29,
   "id": "0cce92a0",
   "metadata": {},
   "outputs": [],
   "source": [
    "def hexagonalGrid(a, b):\n",
    "    a = list(map(lambda x: int(x), list(a)))\n",
    "    b = list(map(lambda x: int(x), list(b)))\n",
    "    total_sum = sum(a) + sum(b)\n",
    "    if total_sum%2==1:\n",
    "        return \"NO\"\n",
    "    elif total_sum == len(a) + len(b): \n",
    "        return \"YES\"\n",
    "    else:\n",
    "        for i in range(1, len(a)):\n",
    "            if a[i]==1 and b[i - 1]==1:\n",
    "                left_sum =sum(a[:i]) + sum(b[:i-1])\n",
    "                #print(\"Left Sum, \", left_sum)\n",
    "                right_sum = sum(a[i+1:]) + sum(b[i:])\n",
    "                #print(\"Right Sum, \", right_sum)\n",
    "                if left_sum%2 == 0 or right_sum%2 == 0: \n",
    "                    return \"NO\"\n",
    "            elif a[i-1]==1 and b[i-1]==1:\n",
    "                left_sum =sum(a[:i-1]) + sum(b[:i-1])\n",
    "                #print(\"Left Sum, \", left_sum)\n",
    "                right_sum = sum(a[i:]) + sum(b[i:])\n",
    "                #print(\"Right Sum, \", right_sum)\n",
    "                if left_sum%2 == 1 or right_sum%2 == 1: \n",
    "                    return \"NO\"\n",
    "        return \"YES\""
   ]
  },
  {
   "cell_type": "code",
   "execution_count": 30,
   "id": "bee223af",
   "metadata": {},
   "outputs": [
    {
     "name": "stdout",
     "output_type": "stream",
     "text": [
      "64 3 000 000 3 000 100 3 000 010 3 000 110 3 000 001 3 000 101 3 000 011 3 000 111 3 100 000 3 100 100 3 100 010 3 100 110 3 100 001 3 100 101 3 100 011 3 100 111 3 010 000 3 010 100 3 010 010 3 010 110 3 010 001 3 010 101 3 010 011 3 010 111 3 110 000 3 110 100 3 110 010 3 110 110 3 110 001 3 110 101 3 110 011 3 110 111 3 001 000 3 001 100 3 001 010 3 001 110 3 001 001 3 001 101 3 001 011 3 001 111 3 101 000 3 101 100 3 101 010 3 101 110 3 101 001 3 101 101 3 101 011 3 101 111 3 011 000 3 011 100 3 011 010 3 011 110 3 011 001 3 011 101 3 011 011 3 011 111 3 111 000 3 111 100 3 111 010 3 111 110 3 111 001 3 111 101 3 111 011 3 111 111\n",
      "Percentage of working cases:  1.0\n"
     ]
    }
   ],
   "source": [
    "t = input().strip().split()\n",
    "#print(len(t))\n",
    "counter = 0\n",
    "for i in range(1, len(t), 3):\n",
    "    a = t[i+1]\n",
    "    #print(\"a, \", a)\n",
    "    b = t[i+2]\n",
    "    #print(\"b, \", b)\n",
    "    result = hexagonalGrid(a, b)\n",
    "    real_result = hexagonalGridSolution(a, b)\n",
    "    if result != real_result:\n",
    "        print(\"Not Working: \")\n",
    "        print(a)\n",
    "        print(b)\n",
    "        print(\"Correct Result: \", real_result)\n",
    "        print(\"My result: \", result)\n",
    "        print(\"-------------------------\")\n",
    "        counter += 1\n",
    "print(\"Percentage of working cases: \", 1 - counter/int(t[0]))"
   ]
  },
  {
   "cell_type": "code",
   "execution_count": null,
   "id": "211c32aa",
   "metadata": {},
   "outputs": [],
   "source": [
    "#1 3 111 100"
   ]
  }
 ],
 "metadata": {
  "kernelspec": {
   "display_name": "Python 3 (ipykernel)",
   "language": "python",
   "name": "python3"
  },
  "language_info": {
   "codemirror_mode": {
    "name": "ipython",
    "version": 3
   },
   "file_extension": ".py",
   "mimetype": "text/x-python",
   "name": "python",
   "nbconvert_exporter": "python",
   "pygments_lexer": "ipython3",
   "version": "3.10.5"
  }
 },
 "nbformat": 4,
 "nbformat_minor": 5
}
