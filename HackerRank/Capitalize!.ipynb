{
 "cells": [
  {
   "cell_type": "markdown",
   "id": "698f546a",
   "metadata": {},
   "source": [
    "### Problem\n",
    "\n",
    "You are asked to ensure that the first and last names of people begin with a capital letter in their passports. For example, __alison heck__ should be capitalised correctly as __Alison Heck__.\n",
    "\n",
    "- __Note:__ In a word only the first character is capitalized. Example 12abc when capitalized remains 12abc.\n",
    "\n",
    "### Solution\n",
    "\n",
    " - Split the string by spaces\n",
    " - Loop over different \"names\" and check if it is not empty. \n",
    " - If not empty, check if the first letter of the name is lowercase. \n",
    " - Change the letter to uppercase in the list\n",
    " - Join the elements in the list by a space. \n",
    " "
   ]
  },
  {
   "cell_type": "code",
   "execution_count": 1,
   "id": "05630e1f",
   "metadata": {},
   "outputs": [],
   "source": [
    "def solve(s):\n",
    "    listed_string = s.split(\" \")\n",
    "    for element in range(len(listed_string)):\n",
    "        name = listed_string[element]\n",
    "        if name:\n",
    "            if name[0].isalpha():\n",
    "                listed_string[element] = name[0].upper() + name[1:]\n",
    "    output = \" \".join(listed_string)\n",
    "    return output "
   ]
  },
  {
   "cell_type": "code",
   "execution_count": 3,
   "id": "a1b7308a",
   "metadata": {},
   "outputs": [
    {
     "name": "stdout",
     "output_type": "stream",
     "text": [
      "q w e r t y u i o p a s d f g h j  k l z x c v b n m Q W E R T Y U I O P A S D F G H J  K L Z X C V B N M\n",
      "Result:  Q W E R T Y U I O P A S D F G H J  K L Z X C V B N M Q W E R T Y U I O P A S D F G H J  K L Z X C V B N M\n"
     ]
    }
   ],
   "source": [
    "s = input()\n",
    "\n",
    "result = solve(s)\n",
    "\n",
    "print(\"Result: \", result)\n",
    "\n",
    "#Test Case: q w e r t y u i o p a s d f g h j  k l z x c v b n m Q W E R T Y U I O P A S D F G H J  K L Z X C V B N M\n"
   ]
  },
  {
   "cell_type": "code",
   "execution_count": null,
   "id": "7a349170",
   "metadata": {},
   "outputs": [],
   "source": []
  }
 ],
 "metadata": {
  "kernelspec": {
   "display_name": "Python 3 (ipykernel)",
   "language": "python",
   "name": "python3"
  },
  "language_info": {
   "codemirror_mode": {
    "name": "ipython",
    "version": 3
   },
   "file_extension": ".py",
   "mimetype": "text/x-python",
   "name": "python",
   "nbconvert_exporter": "python",
   "pygments_lexer": "ipython3",
   "version": "3.10.5"
  }
 },
 "nbformat": 4,
 "nbformat_minor": 5
}
