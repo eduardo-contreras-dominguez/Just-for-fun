{
 "cells": [
  {
   "cell_type": "markdown",
   "id": "858d228f",
   "metadata": {},
   "source": [
    "## Question\n",
    "\n",
    "Suppose there is a circle. There are $N$ petrol pumps on that circle. Petrol pumps are numbered $0$ to $(N-1)$\n",
    "(both inclusive).\n",
    "\n",
    "You have two pieces of information corresponding to each of the petrol pump:<br>\n",
    "(1) Amount of petrol that particular petrol pump will give.<br>\n",
    "(2) Distance from that petrol pump to the next petrol pump.<br>\n",
    "\n",
    "Initially, you have a tank of infinite capacity carrying no petrol. You can start the tour at any of the petrol\n",
    "pumps.\n",
    "\n",
    "Calculate the first point from where the truck will be able to complete the circle. Consider that the truck will stop at each of the petrol pumps. The truck will move one kilometer for each litre of the petrol.\n",
    " \n",
    "## Input Format\n",
    "\n",
    "The first line will contain the value of $N$.\n",
    "The next $N$ lines will contain a pair of integers each, i.e. the amount of petrol that petrol pump will give and the distance between that petrol pump and the next petrol pump.\n",
    "\n",
    "## Solucion\n",
    "\n",
    "Basicamente un camino se puede tomar siempre y cuando el combustible disponible en el camion (variable <b>counter</b>)\n",
    "sea siempre superior a la distancia a recorrer.<br>\n",
    "\n",
    "Si en algun momento el counter pasa a negativo, <b>break</b> del bucle para pasar al posible pozo inicial siguiente.<br>\n",
    "Una vez encontrado un camino factible (con todos los counters positivos) terminamos todo y devolvemos el indice del camino."
   ]
  },
  {
   "cell_type": "code",
   "execution_count": 1,
   "id": "ea3797c2",
   "metadata": {},
   "outputs": [],
   "source": [
    "def truckTour(petrolpumps):\n",
    "    for i in range(len(petrolpumps)):\n",
    "        counter = 0\n",
    "        #Primera parte del camino, desde el pozo i a los siguientes (hasta parar en\n",
    "        #el ultimo pozo del circulo).\n",
    "        for j in range(i, len(petrolpumps)):\n",
    "            #Cada vez que pasas una etapa se la suma a lo que ya has acumulado\n",
    "            # la diferencia entre la capacidad del pozo y la distancia.\n",
    "            counter = counter + (petrolpumps[j][0] - petrolpumps[j][1])\n",
    "            if counter <0:\n",
    "                #Si no nos queda gasolina pasamos al siguiente posible pozo\n",
    "                break\n",
    "        #Si nuestro camino todavia no se ha visto truncado...\n",
    "        #Seguimos con los pozos del 0 hasta el i (dando una vuelta completa.)\n",
    "        if counter >=0:\n",
    "            for k in range(i):\n",
    "                counter = counter + (petrolpumps[j][0] - petrolpumps[j][1])\n",
    "                if counter < 0:\n",
    "                    break\n",
    "        if counter >=0:\n",
    "            return i"
   ]
  },
  {
   "cell_type": "code",
   "execution_count": null,
   "id": "68ff9628",
   "metadata": {},
   "outputs": [],
   "source": []
  }
 ],
 "metadata": {
  "kernelspec": {
   "display_name": "Python 3 (ipykernel)",
   "language": "python",
   "name": "python3"
  },
  "language_info": {
   "codemirror_mode": {
    "name": "ipython",
    "version": 3
   },
   "file_extension": ".py",
   "mimetype": "text/x-python",
   "name": "python",
   "nbconvert_exporter": "python",
   "pygments_lexer": "ipython3",
   "version": "3.10.5"
  }
 },
 "nbformat": 4,
 "nbformat_minor": 5
}
